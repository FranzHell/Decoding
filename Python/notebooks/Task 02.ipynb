{
 "cells": [
  {
   "cell_type": "code",
   "execution_count": null,
   "metadata": {
    "collapsed": false
   },
   "outputs": [],
   "source": [
    "%matplotlib inline\n",
    "from sklearn.grid_search import GridSearchCV\n",
    "import numpy as np\n",
    "from scipy import io\n",
    "from sklearn.linear_model import LogisticRegression\n",
    "import matplotlib.pyplot as plt\n",
    "import seaborn as sns\n",
    "import warnings\n",
    "warnings.filterwarnings('ignore')\n",
    "\n",
    "sns.set_style('ticks')\n",
    "sns.set_context('notebook',font_scale=1.3)"
   ]
  },
  {
   "cell_type": "markdown",
   "metadata": {},
   "source": [
    "### Load Data"
   ]
  },
  {
   "cell_type": "code",
   "execution_count": null,
   "metadata": {
    "collapsed": false
   },
   "outputs": [],
   "source": [
    "dat = io.loadmat('/data/task01_full.mat')\n",
    "X, y, Xtest, ytest = dat['X'], dat['Y'].ravel(), dat['Xtest'], dat['Ytest'].ravel()\n",
    "\n",
    "model = LogisticRegression(C=1.,penalty='l2')\n"
   ]
  },
  {
   "cell_type": "markdown",
   "metadata": {},
   "source": [
    "### a) model selection"
   ]
  },
  {
   "cell_type": "code",
   "execution_count": null,
   "metadata": {
    "collapsed": false
   },
   "outputs": [],
   "source": [
    "def model_selection(model, param_grid):\n",
    "    clf = GridSearchCV(model, param_grid, cv=5, scoring='accuracy')\n",
    "    clf.fit(X, y)\n",
    "    return clf.best_estimator_\n",
    "best = model_selection(model,  \n",
    "                       {'C':10.**np.arange(-5.,4.5, .25), 'penalty':['l1','l2'], 'tol': [0.001, 0.0001, 0.00001]})\n",
    "print(best)\n",
    "yest = best.predict(Xtest)\n",
    "print(\"Accuracy is %.2f\" % (np.mean(yest == ytest),))\n"
   ]
  },
  {
   "cell_type": "code",
   "execution_count": null,
   "metadata": {
    "collapsed": false,
    "scrolled": false
   },
   "outputs": [],
   "source": [
    "\n",
    "#--------- Plotting --------------\n",
    "mi, ma = X.ravel().min(), X.ravel().max()\n",
    "ra = np.linspace(mi, ma, 30)\n",
    "xp,yp = np.meshgrid(ra, ra)\n",
    "Xp = np.c_[xp.ravel(),yp.ravel()]\n",
    "Dp = best.decision_function(Xp).reshape(xp.shape)\n",
    "Yp = best.predict(Xp)\n",
    "\n",
    "with sns.axes_style('whitegrid'):\n",
    "    fig, ax = plt.subplots(facecolor='w')\n",
    "cb = ax.pcolormesh(xp,yp,Dp, cmap=plt.cm.gray,zorder=-10)\n",
    "ax.contour(xp,yp,Dp, [0], zorder=-5)\n",
    "ax.axis('tight')\n",
    "\n",
    "idx = y == 1\n",
    "ax.plot(X[idx,0],X[idx, 1], 'o', color='lime', zorder=10, label='train +')\n",
    "ax.plot(X[~idx,0],X[~idx, 1], 'o', color='magenta', zorder=10, label='train -')\n",
    "\n",
    "idx = ytest == 1\n",
    "ax.plot(Xtest[idx,0],Xtest[idx, 1], 'o', color='dodgerblue', zorder=10, label='test +')\n",
    "ax.plot(Xtest[~idx,0],Xtest[~idx, 1], 'o', color='gold', zorder=10, label='test -')\n",
    "\n",
    "ax.set_xlabel(r'$x_1$')\n",
    "ax.set_ylabel(r'$x_2$')\n",
    "ax.legend()\n",
    "ax.set_aspect(1)\n",
    "fig.tight_layout()\n",
    "fig.set_size_inches((7,7))\n",
    "\n",
    "plt.show()\n"
   ]
  }
 ],
 "metadata": {
  "kernelspec": {
   "display_name": "Python 3",
   "language": "python",
   "name": "python3"
  },
  "language_info": {
   "codemirror_mode": {
    "name": "ipython",
    "version": 3
   },
   "file_extension": ".py",
   "mimetype": "text/x-python",
   "name": "python",
   "nbconvert_exporter": "python",
   "pygments_lexer": "ipython3",
   "version": "3.5.1"
  }
 },
 "nbformat": 4,
 "nbformat_minor": 0
}
