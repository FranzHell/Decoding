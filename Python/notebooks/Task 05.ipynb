{
 "cells": [
  {
   "cell_type": "code",
   "execution_count": 4,
   "metadata": {
    "collapsed": false
   },
   "outputs": [
    {
     "name": "stdout",
     "output_type": "stream",
     "text": [
      "The autoreload extension is already loaded. To reload it, use:\n",
      "  %reload_ext autoreload\n"
     ]
    }
   ],
   "source": [
    "%matplotlib inline\n",
    "%load_ext autoreload\n",
    "%autoreload 2\n",
    "\n",
    "import warnings\n",
    "warnings.filterwarnings('ignore')\n",
    "from sklearn.cross_validation import StratifiedShuffleSplit\n",
    "from sklearn.grid_search import GridSearchCV\n",
    "import numpy as np\n",
    "from scipy import io\n",
    "from sklearn.linear_model import LogisticRegression\n",
    "import matplotlib.pyplot as plt\n",
    "import seaborn as sns\n",
    "from utils import model_selection\n",
    "from collections import defaultdict\n",
    "from sklearn.metrics import mutual_info_score, accuracy_score\n",
    "from tqdm import tqdm, trange\n",
    "from itertools import product\n",
    "import pandas as pd\n",
    "\n",
    "sns.set_style('ticks')\n",
    "sns.set_context('notebook',font_scale=1.3)"
   ]
  },
  {
   "cell_type": "code",
   "execution_count": 5,
   "metadata": {
    "collapsed": false
   },
   "outputs": [
    {
     "name": "stdout",
     "output_type": "stream",
     "text": [
      "contrast X orientations X neurons X time X trials (2, 7, 20, 90, 85)\n"
     ]
    }
   ],
   "source": [
    "dat = io.loadmat('/data/neurons08.mat')\n",
    "ori, contrasts, n_bins, n_trials, times, n_neurons = \\\n",
    "    dat['ori'].squeeze(),  dat['contrast'].squeeze(), \\\n",
    "        int(dat['nBins']), int(dat['nTrials']), dat['times'].squeeze(), int(dat['nNeurons'])\n",
    "responses = np.stack([np.stack(e[:-1], axis=0)  for e in dat['feat'].squeeze()], axis=0) # :-1 to exclude last incomplete trials\n",
    "\n",
    "\n",
    "print('contrast X orientations X neurons X time X trials', responses.shape)\n"
   ]
  },
  {
   "cell_type": "markdown",
   "metadata": {},
   "source": [
    "### a) compute mutual information for each single neuron"
   ]
  },
  {
   "cell_type": "code",
   "execution_count": 34,
   "metadata": {
    "collapsed": false
   },
   "outputs": [
    {
     "name": "stderr",
     "output_type": "stream",
     "text": [
      "100%|██████████| 19/19 [00:27<00:00,  1.39s/it]\n"
     ]
    }
   ],
   "source": [
    "orientation_classes = [0,2]\n",
    "time_idx = (times >= 50) & (times <= 250)\n",
    "results = defaultdict(list)\n",
    "params = dict(\n",
    "            C=10.**np.arange(-5.,1., .5), \n",
    "            penalty=['l1','l2']\n",
    "        )\n",
    "i_contrast = 1\n",
    "for neuron in trange(1, n_neurons):\n",
    "    X = np.vstack([responses[i_contrast, _, neuron, time_idx, :].T for _ in orientation_classes])\n",
    "    y = np.ones(2*n_trials)\n",
    "    y[n_trials:] = 2\n",
    "    for resample, (train_idx, test_idx) in enumerate(StratifiedShuffleSplit(y, n_iter=5, test_size=.3)):\n",
    "        model = LogisticRegression(C=1.,penalty='l2')\n",
    "       \n",
    "        best = model_selection(model, X[train_idx], y[train_idx], params, cv=5,  scoring='accuracy', n_jobs=5)\n",
    "        yhat = best.predict(X[test_idx])\n",
    "        results['neuron'].append(neuron)\n",
    "        results['accuracy'].append(accuracy_score(y[test_idx], yhat))\n",
    "        results['resample'].append(resample)\n",
    "        results['mode'].append('single')\n",
    "        results['mutual information [bits]'].append(mutual_info_score(y[test_idx], yhat)/np.log(2.))\n",
    "        \n",
    "        \n",
    "        "
   ]
  },
  {
   "cell_type": "markdown",
   "metadata": {},
   "source": [
    "### b) compute mutual information for the entire population"
   ]
  },
  {
   "cell_type": "code",
   "execution_count": 35,
   "metadata": {
    "collapsed": true
   },
   "outputs": [],
   "source": [
    "X = np.vstack([responses[i_contrast, _, 1:, time_idx, :].reshape((-1, n_trials)).T for _ in orientation_classes])\n",
    "y = np.ones(2*n_trials)\n",
    "y[n_trials:] = 2\n",
    "for resample, (train_idx, test_idx) in enumerate(StratifiedShuffleSplit(y, n_iter=5, test_size=.3)):\n",
    "    model = LogisticRegression(C=1.,penalty='l2')\n",
    "\n",
    "    best = model_selection(model, X[train_idx], y[train_idx], params, cv=5,  scoring='accuracy', n_jobs=5)\n",
    "    yhat = best.predict(X[test_idx])\n",
    "    results['neuron'].append('2-20')\n",
    "    results['accuracy'].append(accuracy_score(y[test_idx], yhat))\n",
    "    results['resample'].append(resample)\n",
    "    results['mode'].append('population')\n",
    "    results['mutual information [bits]'].append(mutual_info_score(y[test_idx], yhat)/np.log(2.))\n",
    "     "
   ]
  },
  {
   "cell_type": "markdown",
   "metadata": {},
   "source": [
    "### c) compare single mutual information, population, and sum over single mutual informations"
   ]
  },
  {
   "cell_type": "code",
   "execution_count": 41,
   "metadata": {
    "collapsed": false
   },
   "outputs": [
    {
     "data": {
      "text/html": [
       "<div>\n",
       "<table border=\"1\" class=\"dataframe\">\n",
       "  <thead>\n",
       "    <tr style=\"text-align: right;\">\n",
       "      <th></th>\n",
       "      <th></th>\n",
       "      <th>accuracy</th>\n",
       "      <th>mutual information [bits]</th>\n",
       "      <th>resample</th>\n",
       "    </tr>\n",
       "    <tr>\n",
       "      <th>neuron</th>\n",
       "      <th>mode</th>\n",
       "      <th></th>\n",
       "      <th></th>\n",
       "      <th></th>\n",
       "    </tr>\n",
       "  </thead>\n",
       "  <tbody>\n",
       "    <tr>\n",
       "      <th>1</th>\n",
       "      <th>single</th>\n",
       "      <td>0.640</td>\n",
       "      <td>0.082934</td>\n",
       "      <td>2</td>\n",
       "    </tr>\n",
       "    <tr>\n",
       "      <th>2</th>\n",
       "      <th>single</th>\n",
       "      <td>0.500</td>\n",
       "      <td>0.004540</td>\n",
       "      <td>2</td>\n",
       "    </tr>\n",
       "    <tr>\n",
       "      <th>3</th>\n",
       "      <th>single</th>\n",
       "      <td>0.916</td>\n",
       "      <td>0.630726</td>\n",
       "      <td>2</td>\n",
       "    </tr>\n",
       "    <tr>\n",
       "      <th>4</th>\n",
       "      <th>single</th>\n",
       "      <td>0.508</td>\n",
       "      <td>0.001733</td>\n",
       "      <td>2</td>\n",
       "    </tr>\n",
       "    <tr>\n",
       "      <th>5</th>\n",
       "      <th>single</th>\n",
       "      <td>0.624</td>\n",
       "      <td>0.049650</td>\n",
       "      <td>2</td>\n",
       "    </tr>\n",
       "    <tr>\n",
       "      <th>6</th>\n",
       "      <th>single</th>\n",
       "      <td>0.480</td>\n",
       "      <td>0.018047</td>\n",
       "      <td>2</td>\n",
       "    </tr>\n",
       "    <tr>\n",
       "      <th>7</th>\n",
       "      <th>single</th>\n",
       "      <td>0.520</td>\n",
       "      <td>0.004185</td>\n",
       "      <td>2</td>\n",
       "    </tr>\n",
       "    <tr>\n",
       "      <th>8</th>\n",
       "      <th>single</th>\n",
       "      <td>0.924</td>\n",
       "      <td>0.666139</td>\n",
       "      <td>2</td>\n",
       "    </tr>\n",
       "    <tr>\n",
       "      <th>9</th>\n",
       "      <th>single</th>\n",
       "      <td>0.560</td>\n",
       "      <td>0.022233</td>\n",
       "      <td>2</td>\n",
       "    </tr>\n",
       "    <tr>\n",
       "      <th>10</th>\n",
       "      <th>single</th>\n",
       "      <td>0.588</td>\n",
       "      <td>0.081051</td>\n",
       "      <td>2</td>\n",
       "    </tr>\n",
       "    <tr>\n",
       "      <th>11</th>\n",
       "      <th>single</th>\n",
       "      <td>0.584</td>\n",
       "      <td>0.043393</td>\n",
       "      <td>2</td>\n",
       "    </tr>\n",
       "    <tr>\n",
       "      <th>12</th>\n",
       "      <th>single</th>\n",
       "      <td>0.508</td>\n",
       "      <td>0.007967</td>\n",
       "      <td>2</td>\n",
       "    </tr>\n",
       "    <tr>\n",
       "      <th>13</th>\n",
       "      <th>single</th>\n",
       "      <td>0.488</td>\n",
       "      <td>0.008676</td>\n",
       "      <td>2</td>\n",
       "    </tr>\n",
       "    <tr>\n",
       "      <th>14</th>\n",
       "      <th>single</th>\n",
       "      <td>0.500</td>\n",
       "      <td>0.000000</td>\n",
       "      <td>2</td>\n",
       "    </tr>\n",
       "    <tr>\n",
       "      <th>15</th>\n",
       "      <th>single</th>\n",
       "      <td>0.492</td>\n",
       "      <td>0.001126</td>\n",
       "      <td>2</td>\n",
       "    </tr>\n",
       "    <tr>\n",
       "      <th>16</th>\n",
       "      <th>single</th>\n",
       "      <td>0.500</td>\n",
       "      <td>0.000000</td>\n",
       "      <td>2</td>\n",
       "    </tr>\n",
       "    <tr>\n",
       "      <th>17</th>\n",
       "      <th>single</th>\n",
       "      <td>0.656</td>\n",
       "      <td>0.090761</td>\n",
       "      <td>2</td>\n",
       "    </tr>\n",
       "    <tr>\n",
       "      <th>18</th>\n",
       "      <th>single</th>\n",
       "      <td>0.812</td>\n",
       "      <td>0.363836</td>\n",
       "      <td>2</td>\n",
       "    </tr>\n",
       "    <tr>\n",
       "      <th>19</th>\n",
       "      <th>single</th>\n",
       "      <td>0.824</td>\n",
       "      <td>0.347238</td>\n",
       "      <td>2</td>\n",
       "    </tr>\n",
       "    <tr>\n",
       "      <th>2-20</th>\n",
       "      <th>population</th>\n",
       "      <td>0.992</td>\n",
       "      <td>0.951080</td>\n",
       "      <td>2</td>\n",
       "    </tr>\n",
       "  </tbody>\n",
       "</table>\n",
       "</div>"
      ],
      "text/plain": [
       "                   accuracy  mutual information [bits]  resample\n",
       "neuron mode                                                     \n",
       "1      single         0.640                   0.082934         2\n",
       "2      single         0.500                   0.004540         2\n",
       "3      single         0.916                   0.630726         2\n",
       "4      single         0.508                   0.001733         2\n",
       "5      single         0.624                   0.049650         2\n",
       "6      single         0.480                   0.018047         2\n",
       "7      single         0.520                   0.004185         2\n",
       "8      single         0.924                   0.666139         2\n",
       "9      single         0.560                   0.022233         2\n",
       "10     single         0.588                   0.081051         2\n",
       "11     single         0.584                   0.043393         2\n",
       "12     single         0.508                   0.007967         2\n",
       "13     single         0.488                   0.008676         2\n",
       "14     single         0.500                   0.000000         2\n",
       "15     single         0.492                   0.001126         2\n",
       "16     single         0.500                   0.000000         2\n",
       "17     single         0.656                   0.090761         2\n",
       "18     single         0.812                   0.363836         2\n",
       "19     single         0.824                   0.347238         2\n",
       "2-20   population     0.992                   0.951080         2"
      ]
     },
     "execution_count": 41,
     "metadata": {},
     "output_type": "execute_result"
    }
   ],
   "source": [
    "df = pd.DataFrame(results)\n",
    "avg = df.groupby(['neuron','mode']).mean()\n",
    "avg"
   ]
  },
  {
   "cell_type": "code",
   "execution_count": 43,
   "metadata": {
    "collapsed": false
   },
   "outputs": [
    {
     "data": {
      "text/html": [
       "<div>\n",
       "<table border=\"1\" class=\"dataframe\">\n",
       "  <thead>\n",
       "    <tr style=\"text-align: right;\">\n",
       "      <th></th>\n",
       "      <th>accuracy</th>\n",
       "      <th>mutual information [bits]</th>\n",
       "      <th>resample</th>\n",
       "    </tr>\n",
       "    <tr>\n",
       "      <th>mode</th>\n",
       "      <th></th>\n",
       "      <th></th>\n",
       "      <th></th>\n",
       "    </tr>\n",
       "  </thead>\n",
       "  <tbody>\n",
       "    <tr>\n",
       "      <th>population</th>\n",
       "      <td>0.992000</td>\n",
       "      <td>0.951080</td>\n",
       "      <td>2</td>\n",
       "    </tr>\n",
       "    <tr>\n",
       "      <th>single</th>\n",
       "      <td>0.611789</td>\n",
       "      <td>0.127591</td>\n",
       "      <td>2</td>\n",
       "    </tr>\n",
       "  </tbody>\n",
       "</table>\n",
       "</div>"
      ],
      "text/plain": [
       "            accuracy  mutual information [bits]  resample\n",
       "mode                                                     \n",
       "population  0.992000                   0.951080         2\n",
       "single      0.611789                   0.127591         2"
      ]
     },
     "execution_count": 43,
     "metadata": {},
     "output_type": "execute_result"
    }
   ],
   "source": [
    "avg.reset_index().groupby('mode').mean()"
   ]
  },
  {
   "cell_type": "code",
   "execution_count": 44,
   "metadata": {
    "collapsed": false
   },
   "outputs": [
    {
     "data": {
      "text/html": [
       "<div>\n",
       "<table border=\"1\" class=\"dataframe\">\n",
       "  <thead>\n",
       "    <tr style=\"text-align: right;\">\n",
       "      <th></th>\n",
       "      <th>accuracy</th>\n",
       "      <th>mutual information [bits]</th>\n",
       "      <th>resample</th>\n",
       "    </tr>\n",
       "    <tr>\n",
       "      <th>mode</th>\n",
       "      <th></th>\n",
       "      <th></th>\n",
       "      <th></th>\n",
       "    </tr>\n",
       "  </thead>\n",
       "  <tbody>\n",
       "    <tr>\n",
       "      <th>population</th>\n",
       "      <td>0.992</td>\n",
       "      <td>0.951080</td>\n",
       "      <td>2</td>\n",
       "    </tr>\n",
       "    <tr>\n",
       "      <th>single</th>\n",
       "      <td>11.624</td>\n",
       "      <td>2.424234</td>\n",
       "      <td>38</td>\n",
       "    </tr>\n",
       "  </tbody>\n",
       "</table>\n",
       "</div>"
      ],
      "text/plain": [
       "            accuracy  mutual information [bits]  resample\n",
       "mode                                                     \n",
       "population     0.992                   0.951080         2\n",
       "single        11.624                   2.424234        38"
      ]
     },
     "execution_count": 44,
     "metadata": {},
     "output_type": "execute_result"
    }
   ],
   "source": [
    "avg.reset_index().groupby('mode').sum()"
   ]
  }
 ],
 "metadata": {
  "kernelspec": {
   "display_name": "Python 3",
   "language": "python",
   "name": "python3"
  },
  "language_info": {
   "codemirror_mode": {
    "name": "ipython",
    "version": 3
   },
   "file_extension": ".py",
   "mimetype": "text/x-python",
   "name": "python",
   "nbconvert_exporter": "python",
   "pygments_lexer": "ipython3",
   "version": "3.5.1"
  }
 },
 "nbformat": 4,
 "nbformat_minor": 0
}
